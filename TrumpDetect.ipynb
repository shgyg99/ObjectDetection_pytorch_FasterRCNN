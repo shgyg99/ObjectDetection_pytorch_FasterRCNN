{
 "cells": [
  {
   "cell_type": "markdown",
   "id": "dedb3c6f-d8d8-4e19-a263-629499d20d81",
   "metadata": {},
   "source": [
    "# **Imports**🎇"
   ]
  },
  {
   "cell_type": "code",
   "execution_count": 26,
   "id": "63e2e5fc-3fd9-4693-9078-1947b970329f",
   "metadata": {},
   "outputs": [],
   "source": [
    "import numpy as np\n",
    "import pandas as pd\n",
    "import matplotlib.pyplot as plt\n",
    "import matplotlib.patches as patches\n",
    "from tqdm import tqdm\n",
    "import os\n",
    "import json\n",
    "from PIL import Image\n",
    "import warnings\n",
    "warnings.filterwarnings(\"ignore\")\n",
    "\n",
    "import torch\n",
    "from torch.utils.data import DataLoader, random_split, Dataset\n",
    "import torch.optim as optim\n",
    "\n",
    "import torchvision\n",
    "from torchvision import transforms as T\n",
    "from torchvision.utils import make_grid\n",
    "from torchvision.transforms import functional as F"
   ]
  },
  {
   "cell_type": "markdown",
   "id": "5972b6e8-7660-4c99-94f9-36c914eb3f04",
   "metadata": {},
   "source": [
    "# **Utils**"
   ]
  },
  {
   "cell_type": "code",
   "execution_count": 2,
   "id": "b26c604c-e0e0-40b9-9a83-a102f8bd7324",
   "metadata": {},
   "outputs": [],
   "source": [
    "device = 'cuda' if torch.cuda.is_available() else 'cpu'\n",
    "\n",
    "n_epoch = 50"
   ]
  },
  {
   "cell_type": "markdown",
   "id": "ecfcf4e2-d13b-42ee-839e-0664a83632a6",
   "metadata": {},
   "source": [
    "# **Prepare Labels and Files**"
   ]
  },
  {
   "cell_type": "code",
   "execution_count": 9,
   "id": "4180db2e-a474-4b81-a181-6b1bbc99e20f",
   "metadata": {},
   "outputs": [],
   "source": [
    "# !labelme"
   ]
  },
  {
   "cell_type": "code",
   "execution_count": 10,
   "id": "a7b86d1b-9823-49be-9048-d667948bb4bf",
   "metadata": {},
   "outputs": [],
   "source": [
    "# for folder in ['train', 'valid', 'test']:\n",
    "#     for file in os.listdir(os.path.join(folder, 'photo/')):\n",
    "#         filename = file.split('.')[0]+'.json'\n",
    "#         existing_filepath = os.path.join('labels', filename)\n",
    "#         if os.path.exists(existing_filepath):\n",
    "#             new_filepath = os.path.join(folder, 'label', filename)\n",
    "#             os.replace(existing_filepath, new_filepath)\n"
   ]
  },
  {
   "cell_type": "markdown",
   "id": "f70a2476-0987-4869-bf09-58c200680fbf",
   "metadata": {},
   "source": [
    "# **Functions**"
   ]
  },
  {
   "cell_type": "code",
   "execution_count": 68,
   "id": "ba1553f5-5a07-450c-949e-a1f7bc85eaf5",
   "metadata": {},
   "outputs": [],
   "source": [
    "class TrumpDataset(Dataset):\n",
    "    def __init__(self, phase):\n",
    "        self.phase = phase\n",
    "\n",
    "        self.images_list = []\n",
    "        self.labels = []\n",
    "        for item in os.listdir(os.path.join(phase, 'photo')):\n",
    "            img_path = os.path.join(phase, 'photo', item)\n",
    "            self.images_list.append(img_path)\n",
    "            self.labels.append(os.path.join(phase, 'label', '.'.join(item.split('.')[:-1]) + '.json'))\n",
    "\n",
    "\n",
    "    def __getitem__(self, item):\n",
    "        img_path = os.path.join(self.images_list[item])\n",
    "        img = Image.open(img_path).convert('RGB')\n",
    "        img = F.to_tensor(img)\n",
    "          \n",
    "        with open(self.labels[item]) as f:\n",
    "            loal = json.load(f)\n",
    "            points = []\n",
    "            for i in range(len(load['shapes'])):\n",
    "                points.append(\n",
    "                    [load['shapes'][i]['points'][0][0],\n",
    "                     load['shapes'][i]['points'][0][1],\n",
    "                     load['shapes'][i]['points'][1][0],\n",
    "                     load['shapes'][i]['points'][1][1]])\n",
    "\n",
    "        boxes = torch.tensor(points, dtype=torch.float32)\n",
    "        labels = torch.ones((len(load['shapes']), ), dtype=torch.int64)\n",
    "        #\n",
    "        target = {}\n",
    "        target['boxes'] = boxes\n",
    "        target['labels'] = labels\n",
    "        #\n",
    "        return img, target\n",
    "\n",
    "    def __len__(self):\n",
    "        return len(self.images_list)"
   ]
  },
  {
   "cell_type": "code",
   "execution_count": null,
   "id": "9b74751f-3591-4a41-9049-aec3bb3fc3a7",
   "metadata": {},
   "outputs": [],
   "source": []
  }
 ],
 "metadata": {
  "kernelspec": {
   "display_name": "Python 3 (ipykernel)",
   "language": "python",
   "name": "python3"
  },
  "language_info": {
   "codemirror_mode": {
    "name": "ipython",
    "version": 3
   },
   "file_extension": ".py",
   "mimetype": "text/x-python",
   "name": "python",
   "nbconvert_exporter": "python",
   "pygments_lexer": "ipython3",
   "version": "3.11.8"
  }
 },
 "nbformat": 4,
 "nbformat_minor": 5
}
