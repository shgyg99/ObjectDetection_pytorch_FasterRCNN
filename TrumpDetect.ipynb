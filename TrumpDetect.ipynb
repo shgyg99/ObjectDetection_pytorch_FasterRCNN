{
 "cells": [
  {
   "cell_type": "markdown",
   "id": "dedb3c6f-d8d8-4e19-a263-629499d20d81",
   "metadata": {},
   "source": [
    "# **Imports**🎇"
   ]
  },
  {
   "cell_type": "code",
   "execution_count": 1,
   "id": "63e2e5fc-3fd9-4693-9078-1947b970329f",
   "metadata": {},
   "outputs": [],
   "source": [
    "import numpy as np\n",
    "import pandas as pd\n",
    "import matplotlib.pyplot as plt\n",
    "import matplotlib.patches as patches\n",
    "from tqdm import tqdm\n",
    "import os\n",
    "from PIL import Image\n",
    "import warnings\n",
    "warnings.filterwarnings(\"ignore\")\n",
    "\n",
    "import torch\n",
    "from torch.utils.data import DataLoader, random_split, Dataset\n",
    "import torch.optim as optim\n",
    "\n",
    "import torchvision\n",
    "from torchvision import transforms as T\n",
    "from torchvision.utils import make_grid\n",
    "from torchvision.transforms import functional as F"
   ]
  },
  {
   "cell_type": "markdown",
   "id": "5972b6e8-7660-4c99-94f9-36c914eb3f04",
   "metadata": {},
   "source": [
    "# **Utils**"
   ]
  },
  {
   "cell_type": "code",
   "execution_count": 2,
   "id": "b26c604c-e0e0-40b9-9a83-a102f8bd7324",
   "metadata": {},
   "outputs": [],
   "source": [
    "device = 'cuda' if torch.cuda.is_available() else 'cpu'\n",
    "\n",
    "n_epoch = 50"
   ]
  },
  {
   "cell_type": "markdown",
   "id": "ecfcf4e2-d13b-42ee-839e-0664a83632a6",
   "metadata": {},
   "source": [
    "# **Prepare Labels and Files**"
   ]
  },
  {
   "cell_type": "code",
   "execution_count": 3,
   "id": "4180db2e-a474-4b81-a181-6b1bbc99e20f",
   "metadata": {},
   "outputs": [
    {
     "name": "stderr",
     "output_type": "stream",
     "text": [
      "2024-07-21 09:10:12,350 [INFO   ] __init__:get_config:67- Loading config file from: C:\\Users\\KARBAR\\.labelmerc\n"
     ]
    }
   ],
   "source": [
    "!labelme"
   ]
  },
  {
   "cell_type": "markdown",
   "id": "f70a2476-0987-4869-bf09-58c200680fbf",
   "metadata": {},
   "source": [
    "# **Functions**"
   ]
  },
  {
   "cell_type": "code",
   "execution_count": null,
   "id": "ba1553f5-5a07-450c-949e-a1f7bc85eaf5",
   "metadata": {},
   "outputs": [],
   "source": [
    "class TrumpDataset(Dataset):\n",
    "  def __init__(self, root, phase):\n",
    "    self.root = root\n",
    "    self.phase = phase\n",
    "\n",
    "    # self.imgs = os.listdir(os.path.join(root, 'images'))\n",
    "    self.targets = pd.read_csv(os.path.join(root, 'data/{}_labels.csv'.format(phase)))\n",
    "    self.imgs = self.targets['filename']\n",
    "\n",
    "  def __getitem__(self, idx):\n",
    "    img_path = os.path.join(self.root, 'images', self.imgs[idx])\n",
    "    img = Image.open(img_path).convert('RGB')\n",
    "    img = F.to_tensor(img)\n",
    "\n",
    "    #\n",
    "    box_list = self.targets[self.targets['filename'] == self.imgs[idx]]\n",
    "    box_list = box_list[['xmin', 'ymin', 'xmax', 'ymax']].values\n",
    "    boxes = torch.tensor(box_list, dtype=torch.float32)\n",
    "    #\n",
    "    labels = torch.ones((len(box_list), ), dtype=torch.int64)\n",
    "    #\n",
    "    target = {}\n",
    "    target['boxes'] = boxes\n",
    "    target['labels'] = labels\n",
    "    #\n",
    "    return img, target\n",
    "\n",
    "  def __len__(self):\n",
    "    return len(self.imgs)"
   ]
  }
 ],
 "metadata": {
  "kernelspec": {
   "display_name": "Python 3 (ipykernel)",
   "language": "python",
   "name": "python3"
  },
  "language_info": {
   "codemirror_mode": {
    "name": "ipython",
    "version": 3
   },
   "file_extension": ".py",
   "mimetype": "text/x-python",
   "name": "python",
   "nbconvert_exporter": "python",
   "pygments_lexer": "ipython3",
   "version": "3.11.8"
  }
 },
 "nbformat": 4,
 "nbformat_minor": 5
}
