{
 "cells": [
  {
   "cell_type": "markdown",
   "id": "dedb3c6f-d8d8-4e19-a263-629499d20d81",
   "metadata": {},
   "source": [
    "# **Imports**🎇"
   ]
  },
  {
   "cell_type": "code",
   "execution_count": 26,
   "id": "63e2e5fc-3fd9-4693-9078-1947b970329f",
   "metadata": {},
   "outputs": [],
   "source": [
    "import numpy as np\n",
    "import pandas as pd\n",
    "import matplotlib.pyplot as plt\n",
    "import matplotlib.patches as patches\n",
    "from tqdm import tqdm\n",
    "import os\n",
    "import json\n",
    "from PIL import Image\n",
    "import warnings\n",
    "warnings.filterwarnings(\"ignore\")\n",
    "\n",
    "import torch\n",
    "from torch.utils.data import DataLoader, random_split, Dataset\n",
    "import torch.optim as optim\n",
    "\n",
    "import torchvision\n",
    "from torchvision import transforms as T\n",
    "from torchvision.utils import make_grid\n",
    "from torchvision.transforms import functional as F"
   ]
  },
  {
   "cell_type": "markdown",
   "id": "5972b6e8-7660-4c99-94f9-36c914eb3f04",
   "metadata": {},
   "source": [
    "# **Utils**"
   ]
  },
  {
   "cell_type": "code",
   "execution_count": 2,
   "id": "b26c604c-e0e0-40b9-9a83-a102f8bd7324",
   "metadata": {},
   "outputs": [],
   "source": [
    "device = 'cuda' if torch.cuda.is_available() else 'cpu'\n",
    "\n",
    "n_epoch = 50"
   ]
  },
  {
   "cell_type": "markdown",
   "id": "ecfcf4e2-d13b-42ee-839e-0664a83632a6",
   "metadata": {},
   "source": [
    "# **Prepare Labels and Files**"
   ]
  },
  {
   "cell_type": "code",
   "execution_count": 9,
   "id": "4180db2e-a474-4b81-a181-6b1bbc99e20f",
   "metadata": {},
   "outputs": [],
   "source": [
    "# !labelme"
   ]
  },
  {
   "cell_type": "code",
   "execution_count": 10,
   "id": "a7b86d1b-9823-49be-9048-d667948bb4bf",
   "metadata": {},
   "outputs": [],
   "source": [
    "# for folder in ['train', 'valid', 'test']:\n",
    "#     for file in os.listdir(os.path.join(folder, 'photo/')):\n",
    "#         filename = file.split('.')[0]+'.json'\n",
    "#         existing_filepath = os.path.join('labels', filename)\n",
    "#         if os.path.exists(existing_filepath):\n",
    "#             new_filepath = os.path.join(folder, 'label', filename)\n",
    "#             os.replace(existing_filepath, new_filepath)\n"
   ]
  },
  {
   "cell_type": "markdown",
   "id": "f70a2476-0987-4869-bf09-58c200680fbf",
   "metadata": {},
   "source": [
    "# **Functions**"
   ]
  },
  {
   "cell_type": "code",
   "execution_count": 48,
   "id": "32b28534-1ee5-4a30-ae51-fffafb767388",
   "metadata": {},
   "outputs": [
    {
     "data": {
      "text/plain": [
       "[[59.47916666666667, 6.916666666666665],\n",
       " [23.854166666666668, 52.95833333333333]]"
      ]
     },
     "execution_count": 48,
     "metadata": {},
     "output_type": "execute_result"
    }
   ],
   "source": [
    "load = json.load(open('valid/label/images46.json'))\n",
    "load['shapes'][1]['points']"
   ]
  },
  {
   "cell_type": "code",
   "execution_count": 50,
   "id": "39b380af-6d66-4fc9-bd05-430f37061128",
   "metadata": {},
   "outputs": [
    {
     "data": {
      "text/plain": [
       "[[243.02083333333334, 23.375, 218.43750000000003, 55.041666666666664],\n",
       " [59.47916666666667, 6.916666666666665, 23.854166666666668, 52.95833333333333],\n",
       " [99.47916666666667, 94.20833333333333, 56.35416666666667, 148.79166666666669]]"
      ]
     },
     "execution_count": 50,
     "metadata": {},
     "output_type": "execute_result"
    }
   ],
   "source": [
    "load = json.load(open('valid/label/images46.json'))\n",
    "points = []\n",
    "for i in range(len(load['shapes'])):\n",
    "    points.append(\n",
    "        [load['shapes'][i]['points'][0][0],\n",
    "         load['shapes'][i]['points'][0][1],\n",
    "         load['shapes'][i]['points'][1][0],\n",
    "         load['shapes'][i]['points'][1][1]])\n",
    "points"
   ]
  },
  {
   "cell_type": "code",
   "execution_count": 68,
   "id": "ba1553f5-5a07-450c-949e-a1f7bc85eaf5",
   "metadata": {},
   "outputs": [],
   "source": [
    "class TrumpDataset(Dataset):\n",
    "    def __init__(self, phase):\n",
    "        self.phase = phase\n",
    "\n",
    "        self.images_list = []\n",
    "        self.labels = []\n",
    "        for item in os.listdir(os.path.join(phase, 'photo')):\n",
    "            img_path = os.path.join(phase, 'photo', item)\n",
    "            self.images_list.append(img_path)\n",
    "            self.labels.append(os.path.join(phase, 'label', '.'.join(item.split('.')[:-1]) + '.json'))\n",
    "\n",
    "\n",
    "    def __getitem__(self, item):\n",
    "        img_path = os.path.join(self.images_list[item])\n",
    "        img = Image.open(img_path).convert('RGB')\n",
    "        img = F.to_tensor(img)\n",
    "          \n",
    "        with open(self.labels[item]) as f:\n",
    "            loal = json.load(f)\n",
    "            points = []\n",
    "            for i in range(len(load['shapes'])):\n",
    "                points.append(\n",
    "                    [load['shapes'][i]['points'][0][0],\n",
    "                     load['shapes'][i]['points'][0][1],\n",
    "                     load['shapes'][i]['points'][1][0],\n",
    "                     load['shapes'][i]['points'][1][1]])\n",
    "\n",
    "        boxes = torch.tensor(points, dtype=torch.float32)\n",
    "        labels = torch.ones((len(load['shapes']), ), dtype=torch.int64)\n",
    "        #\n",
    "        target = {}\n",
    "        target['boxes'] = boxes\n",
    "        target['labels'] = labels\n",
    "        #\n",
    "        return img, target\n",
    "\n",
    "    def __len__(self):\n",
    "        return len(self.images_list)"
   ]
  },
  {
   "cell_type": "code",
   "execution_count": 69,
   "id": "e2832a13-0daa-4cd0-955e-9be88d65629c",
   "metadata": {},
   "outputs": [],
   "source": [
    "train = TrumpDataset('train')"
   ]
  },
  {
   "cell_type": "code",
   "execution_count": 70,
   "id": "f8906db4-455f-4407-ac2a-975c007ed138",
   "metadata": {},
   "outputs": [
    {
     "data": {
      "text/plain": [
       "(tensor([[[0.4588, 0.4314, 0.3765,  ..., 0.2824, 0.2549, 0.2627],\n",
       "          [0.4471, 0.4392, 0.4078,  ..., 0.2784, 0.2588, 0.2549],\n",
       "          [0.4588, 0.4392, 0.4157,  ..., 0.2902, 0.2588, 0.2431],\n",
       "          ...,\n",
       "          [0.4745, 0.4588, 0.5020,  ..., 0.2784, 0.2549, 0.2549],\n",
       "          [0.4706, 0.4824, 0.5059,  ..., 0.2627, 0.2314, 0.2314],\n",
       "          [0.4549, 0.4745, 0.4980,  ..., 0.2667, 0.2627, 0.2824]],\n",
       " \n",
       "         [[0.3647, 0.3529, 0.3059,  ..., 0.4667, 0.4863, 0.5451],\n",
       "          [0.3608, 0.3608, 0.3333,  ..., 0.4275, 0.4627, 0.5137],\n",
       "          [0.3843, 0.3686, 0.3490,  ..., 0.4078, 0.4353, 0.4588],\n",
       "          ...,\n",
       "          [0.5373, 0.5216, 0.5569,  ..., 0.2510, 0.2275, 0.2275],\n",
       "          [0.5333, 0.5451, 0.5608,  ..., 0.2353, 0.2000, 0.2000],\n",
       "          [0.5176, 0.5294, 0.5451,  ..., 0.2353, 0.2314, 0.2510]],\n",
       " \n",
       "         [[0.3176, 0.3098, 0.2667,  ..., 0.5373, 0.5490, 0.5922],\n",
       "          [0.3176, 0.3255, 0.3059,  ..., 0.5176, 0.5451, 0.5765],\n",
       "          [0.3294, 0.3137, 0.3098,  ..., 0.5098, 0.5255, 0.5373],\n",
       "          ...,\n",
       "          [0.6784, 0.6627, 0.7020,  ..., 0.2275, 0.2039, 0.2039],\n",
       "          [0.6745, 0.6863, 0.7059,  ..., 0.2118, 0.1882, 0.1882],\n",
       "          [0.6588, 0.6745, 0.6941,  ..., 0.2235, 0.2196, 0.2392]]]),\n",
       " {'boxes': tensor([[243.0208,  23.3750, 218.4375,  55.0417],\n",
       "          [ 59.4792,   6.9167,  23.8542,  52.9583],\n",
       "          [ 99.4792,  94.2083,  56.3542, 148.7917]]),\n",
       "  'labels': tensor([1, 1, 1])})"
      ]
     },
     "execution_count": 70,
     "metadata": {},
     "output_type": "execute_result"
    }
   ],
   "source": [
    "train.__getitem__(1)"
   ]
  },
  {
   "cell_type": "code",
   "execution_count": null,
   "id": "9b74751f-3591-4a41-9049-aec3bb3fc3a7",
   "metadata": {},
   "outputs": [],
   "source": []
  }
 ],
 "metadata": {
  "kernelspec": {
   "display_name": "Python 3 (ipykernel)",
   "language": "python",
   "name": "python3"
  },
  "language_info": {
   "codemirror_mode": {
    "name": "ipython",
    "version": 3
   },
   "file_extension": ".py",
   "mimetype": "text/x-python",
   "name": "python",
   "nbconvert_exporter": "python",
   "pygments_lexer": "ipython3",
   "version": "3.11.8"
  }
 },
 "nbformat": 4,
 "nbformat_minor": 5
}
